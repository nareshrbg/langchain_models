{
 "cells": [
  {
   "cell_type": "code",
   "execution_count": 1,
   "id": "c628399f",
   "metadata": {},
   "outputs": [],
   "source": [
    "from langchain.text_splitter import CharacterTextSplitter\n",
    "from langchain_community.document_loaders import TextLoader"
   ]
  },
  {
   "cell_type": "code",
   "execution_count": 3,
   "id": "7dffb3bc",
   "metadata": {},
   "outputs": [],
   "source": [
    "loader = TextLoader(r'..\\document_loaders\\story.txt')\n",
    "\n",
    "docs = loader.load()\n",
    "\n",
    "splitter = CharacterTextSplitter(\n",
    "    chunk_size=100,\n",
    "    chunk_overlap=0,\n",
    "    separator=''\n",
    ")\n",
    "\n",
    "result = splitter.split_documents(docs)"
   ]
  },
  {
   "cell_type": "code",
   "execution_count": 4,
   "id": "01d01d96",
   "metadata": {},
   "outputs": [
    {
     "data": {
      "text/plain": [
       "[Document(metadata={'source': '..\\\\document_loaders\\\\story.txt'}, page_content='A thirsty crow was flying through a forest, looking everywhere for water. Finally, he saw a pot with'),\n",
       " Document(metadata={'source': '..\\\\document_loaders\\\\story.txt'}, page_content='some water at the bottom, but his beak couldnâ€™t reach it. The crow didnâ€™t give up. He looked ar'),\n",
       " Document(metadata={'source': '..\\\\document_loaders\\\\story.txt'}, page_content='ound and noticed some pebbles on the ground. \\n\\nThe clever crow started dropping the pebbles into the'),\n",
       " Document(metadata={'source': '..\\\\document_loaders\\\\story.txt'}, page_content='pot one by one. Slowly, the water rose higher and higher until it was close enough for him to drink'),\n",
       " Document(metadata={'source': '..\\\\document_loaders\\\\story.txt'}, page_content='. The crow finally quenched his thirst and flew away happily.')]"
      ]
     },
     "execution_count": 4,
     "metadata": {},
     "output_type": "execute_result"
    }
   ],
   "source": [
    "result"
   ]
  },
  {
   "cell_type": "code",
   "execution_count": 5,
   "id": "b6f42a53",
   "metadata": {},
   "outputs": [
    {
     "name": "stdout",
     "output_type": "stream",
     "text": [
      "some water at the bottom, but his beak couldnâ€™t reach it. The crow didnâ€™t give up. He looked ar\n"
     ]
    }
   ],
   "source": [
    "print(result[1].page_content)"
   ]
  },
  {
   "cell_type": "code",
   "execution_count": null,
   "id": "4e1c9dfc",
   "metadata": {},
   "outputs": [],
   "source": []
  },
  {
   "cell_type": "code",
   "execution_count": null,
   "id": "51d146dd",
   "metadata": {},
   "outputs": [],
   "source": []
  },
  {
   "cell_type": "code",
   "execution_count": null,
   "id": "11ce4554",
   "metadata": {},
   "outputs": [],
   "source": []
  },
  {
   "cell_type": "code",
   "execution_count": null,
   "id": "7d8207d4",
   "metadata": {},
   "outputs": [],
   "source": []
  }
 ],
 "metadata": {
  "kernelspec": {
   "display_name": "lang_venv",
   "language": "python",
   "name": "python3"
  },
  "language_info": {
   "codemirror_mode": {
    "name": "ipython",
    "version": 3
   },
   "file_extension": ".py",
   "mimetype": "text/x-python",
   "name": "python",
   "nbconvert_exporter": "python",
   "pygments_lexer": "ipython3",
   "version": "3.12.7"
  }
 },
 "nbformat": 4,
 "nbformat_minor": 5
}
