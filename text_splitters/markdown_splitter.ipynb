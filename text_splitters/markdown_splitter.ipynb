{
 "cells": [
  {
   "cell_type": "code",
   "execution_count": 1,
   "id": "b2218f6a",
   "metadata": {},
   "outputs": [],
   "source": [
    "from langchain.text_splitter import RecursiveCharacterTextSplitter,Language"
   ]
  },
  {
   "cell_type": "code",
   "execution_count": 2,
   "id": "39255434",
   "metadata": {},
   "outputs": [
    {
     "name": "stdout",
     "output_type": "stream",
     "text": [
      "3\n",
      "# Project Name: Smart Student Tracker\n",
      "\n",
      "A simple Python-based project to manage and track student data, including their grades, age, and academic status.\n"
     ]
    }
   ],
   "source": [
    "text = \"\"\"\n",
    "# Project Name: Smart Student Tracker\n",
    "\n",
    "A simple Python-based project to manage and track student data, including their grades, age, and academic status.\n",
    "\n",
    "\n",
    "## Features\n",
    "\n",
    "- Add new students with relevant info\n",
    "- View student details\n",
    "- Check if a student is passing\n",
    "- Easily extendable class-based design\n",
    "\n",
    "\n",
    "## 🛠 Tech Stack\n",
    "\n",
    "- Python 3.10+\n",
    "- No external dependencies\n",
    "\n",
    "\n",
    "## Getting Started\n",
    "\n",
    "1. Clone the repo  \n",
    "   ```bash\n",
    "   git clone https://github.com/your-username/student-tracker.git\n",
    "\n",
    "\"\"\"\n",
    "\n",
    "# Initialize the splitter\n",
    "splitter = RecursiveCharacterTextSplitter.from_language(\n",
    "    language=Language.MARKDOWN,\n",
    "    chunk_size=200,\n",
    "    chunk_overlap=0,\n",
    ")\n",
    "\n",
    "# Perform the split\n",
    "chunks = splitter.split_text(text)\n",
    "\n",
    "print(len(chunks))\n",
    "print(chunks[0])"
   ]
  },
  {
   "cell_type": "code",
   "execution_count": null,
   "id": "3a69552b",
   "metadata": {},
   "outputs": [],
   "source": []
  },
  {
   "cell_type": "code",
   "execution_count": null,
   "id": "c01b7579",
   "metadata": {},
   "outputs": [],
   "source": []
  },
  {
   "cell_type": "code",
   "execution_count": null,
   "id": "b0ed6406",
   "metadata": {},
   "outputs": [],
   "source": []
  }
 ],
 "metadata": {
  "kernelspec": {
   "display_name": "lang_venv",
   "language": "python",
   "name": "python3"
  },
  "language_info": {
   "codemirror_mode": {
    "name": "ipython",
    "version": 3
   },
   "file_extension": ".py",
   "mimetype": "text/x-python",
   "name": "python",
   "nbconvert_exporter": "python",
   "pygments_lexer": "ipython3",
   "version": "3.12.7"
  }
 },
 "nbformat": 4,
 "nbformat_minor": 5
}
