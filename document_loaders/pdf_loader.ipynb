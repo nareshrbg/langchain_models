{
 "cells": [
  {
   "cell_type": "code",
   "execution_count": 2,
   "id": "b69405d7",
   "metadata": {},
   "outputs": [],
   "source": [
    "from langchain_community.document_loaders import PyPDFLoader\n",
    "import os\n",
    "from langchain_core.tools import tool\n",
    "from langchain_groq import ChatGroq\n",
    "from dotenv import load_dotenv"
   ]
  },
  {
   "cell_type": "code",
   "execution_count": 3,
   "id": "e50a5702",
   "metadata": {},
   "outputs": [
    {
     "data": {
      "text/plain": [
       "ChatGroq(client=<groq.resources.chat.completions.Completions object at 0x000001C8772A2DB0>, async_client=<groq.resources.chat.completions.AsyncCompletions object at 0x000001C8772A3F50>, model_name='Llama3-8b-8192', model_kwargs={}, groq_api_key=SecretStr('**********'))"
      ]
     },
     "execution_count": 3,
     "metadata": {},
     "output_type": "execute_result"
    }
   ],
   "source": [
    "groq_api_key=os.getenv(\"GROQ_API_KEY\")\n",
    "llm=ChatGroq(groq_api_key=groq_api_key,model_name=\"Llama3-8b-8192\")\n",
    "llm"
   ]
  },
  {
   "cell_type": "code",
   "execution_count": 6,
   "id": "552d9193",
   "metadata": {},
   "outputs": [],
   "source": [
    "loader = PyPDFLoader('Naresh_Resume.pdf')\n",
    "docs = loader.load()"
   ]
  },
  {
   "cell_type": "code",
   "execution_count": 7,
   "id": "ecd60b7d",
   "metadata": {},
   "outputs": [
    {
     "name": "stdout",
     "output_type": "stream",
     "text": [
      "2\n",
      "NARESH B GHORPADE \n",
      " \n",
      "8892559787 | nareshrbg@gmail.com | Bengaluru | Linkedin \n",
      " \n",
      "Professional Summary \n",
      " \n",
      "Data Scientist with 2+ years of expertise in Machine Learning (ML) and Deep Learning (DL), complemented by \n",
      "8 years of full-stack mobile and web development. Proven ability to design, develop, and deploy scalable, \n",
      "production-ready predictive models and AI solutions. Passionate about leveraging data-driven insights to solve \n",
      "complex business challenges and drive impactful outcomes. \n",
      " \n",
      "Technical Skills \n",
      "● Languages: Python, SQL, C#, .NET   \n",
      "● ML/DL Libraries: Scikit-learn, TensorFlow, Keras, NumPy, Pandas   \n",
      "● Tools & Platforms: Docker, Git, VS Code, Jupyter, Azure (basic), AWS (basic), FastAPI   \n",
      "● ML Techniques: Regression, Classification, Clustering, CNN, RNN, LSTM, NLP, Transformers, Model \n",
      "Optimization \n",
      "● GenAI & LLM Tools: Prior knowledge on LangChain, OpenAI API, HuggingFace Transformers, RAG \n",
      "● Visualization: Matplotlib, Seaborn, Power BI, Tableau  \n",
      "● Databases: MySQL, SQL Server, MongoDB  \n",
      "● Web/Mobile: REST APIs, Microservices, Xamarin, MAUI \n",
      " \n",
      "Professional Experience \n",
      "● Senior Project Specialist II | Payoda Technologies (June 2023 – Jan 2024) \n",
      "● Module Lead | Nous Infosystems (Jan 2022 – June 2023) \n",
      "● Senior Software Engineer | Accenture (Sep 2018 – Dec 2021) \n",
      "● Software Engineer | Amaze INC (Sep 2015 – Aug 2018) \n",
      " \n",
      "Projects \n",
      "Personal Data Science Projects | Learnbay Coursework (Dec 2024 – Present) \n",
      "● Cab Cancellation Predictor: Developed a predictive classification model to forecast car unavailability, directly \n",
      "mitigating last-minute company-initiated booking cancellations and significantly enhancing customer experience \n",
      "by ensuring timely service. \n",
      "● Loan Default Predictor: Implemented a robust binary classification model to accurately assess loan default risk, \n",
      "utilizing key financial indicators to enable automated risk assessment and support data-driven lending decisions. \n",
      "● SmartECG: Developed an automated diagnostic system for classifying cardiac and COVID-19 patients using 12-\n",
      "lead ECG images, integrating ML, DL, transfer learning, and explainable AI. \n",
      "● Next Word Predictor:  Built a comprehensive language model applying Natural Language Processing (NLP) \n",
      "techniques to predict the subsequent word in a sequence, showcasing expertise in text generation and sequence \n",
      "modelling. \n",
      "● Drowsiness Detector: Developed a real-time Computer Vision model to detect drowsy behaviour from webcam \n",
      "input, employing facial landmark detection and custom algorithms to enhance driver safety. \n",
      "● RAG-based QA Assistant: Developed a Retrieval -Augmented Generation (RAG) chatbot using LangChain, \n",
      "enabling context-aware question answering over web-loaded documents. \n",
      " \n",
      "Lead conversion classifier | Freelance (Sep 2024 – Nov 2024) \n",
      "Developed and deployed an NLP-driven text classification model (GRU-based) to classify doctor responses and \n",
      "predict referral interest within a Lead Management System (LMS) which helped in improvising lead conversion \n",
      "strategies and decision making. \n",
      "● Developed a text classification model using deep learning (GRU) to predict doctor referral interest from BDE-\n",
      "recorded feedback, enhancing lead targeting. \n",
      "● Applied key NLP techniques such as tokenization, padding, and embeddings, and compared models including \n",
      "ANN, LSTM, and GRU, selecting GRU for its superior accuracy and efficiency. \n",
      "● Integrated the model into the LMS platform, enabling business teams to prioritize high -potential leads and \n",
      "personalize engagement strategies. \n",
      " \n",
      "LSA | Payoda (June 2023 – Jan 2024) \n",
      "An integrated mobile and machine learning solution to monitor gas leakage incidents via Bluetooth \n",
      "connected sensors and to optimize field workforce operations through predictive service area forecasting.\n",
      "{'producer': 'Microsoft® Word LTSC', 'creator': 'Microsoft® Word LTSC', 'creationdate': '2025-06-23T19:52:25+05:30', 'author': 'mohit yadav', 'moddate': '2025-06-23T19:52:25+05:30', 'source': 'Naresh_Resume.pdf', 'total_pages': 2, 'page': 0, 'page_label': '1'}\n"
     ]
    }
   ],
   "source": [
    "print(len(docs))\n",
    "print(docs[0].page_content)\n",
    "print(docs[0].metadata)"
   ]
  },
  {
   "cell_type": "code",
   "execution_count": null,
   "id": "1c2f7975",
   "metadata": {},
   "outputs": [],
   "source": []
  },
  {
   "cell_type": "code",
   "execution_count": null,
   "id": "ff0a581d",
   "metadata": {},
   "outputs": [],
   "source": []
  },
  {
   "cell_type": "code",
   "execution_count": null,
   "id": "83eef3bc",
   "metadata": {},
   "outputs": [],
   "source": []
  }
 ],
 "metadata": {
  "kernelspec": {
   "display_name": "lang_venv",
   "language": "python",
   "name": "python3"
  },
  "language_info": {
   "codemirror_mode": {
    "name": "ipython",
    "version": 3
   },
   "file_extension": ".py",
   "mimetype": "text/x-python",
   "name": "python",
   "nbconvert_exporter": "python",
   "pygments_lexer": "ipython3",
   "version": "3.12.7"
  }
 },
 "nbformat": 4,
 "nbformat_minor": 5
}
