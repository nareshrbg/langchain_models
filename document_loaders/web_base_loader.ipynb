{
 "cells": [
  {
   "cell_type": "code",
   "execution_count": 1,
   "id": "3fc6f6ae",
   "metadata": {},
   "outputs": [
    {
     "name": "stderr",
     "output_type": "stream",
     "text": [
      "USER_AGENT environment variable not set, consider setting it to identify your requests.\n"
     ]
    }
   ],
   "source": [
    "from langchain_community.document_loaders import WebBaseLoader\n",
    "from langchain_openai import ChatOpenAI\n",
    "from langchain_core.output_parsers import StrOutputParser\n",
    "from langchain_core.prompts import PromptTemplate\n",
    "from dotenv import load_dotenv"
   ]
  },
  {
   "cell_type": "code",
   "execution_count": 2,
   "id": "6de1cd2d",
   "metadata": {},
   "outputs": [
    {
     "data": {
      "text/plain": [
       "[Document(metadata={'source': 'https://www.flipkart.com/apple-macbook-air-m2-16-gb-256-gb-ssd-macos-sequoia-mc7x4hn-a/p/itmdc5308fa78421', 'title': 'Apple MacBook AIR Apple M2 - (8 GB/256 GB SSD/Mac OS Monterey) MLY33HN/A Rs.89900  Price in India - Buy Apple MacBook AIR Apple M2 - (8 GB/256 GB SSD/Mac OS Monterey) MLY33HN/A Midnight Online - Apple : Flipkart.com', 'language': 'en'}, page_content=\"   Apple MacBook AIR Apple M2 - (8 GB/256 GB SSD/Mac OS Monterey) MLY33HN/A Rs.89900  Price in India - Buy Apple MacBook AIR Apple M2 - (8 GB/256 GB SSD/Mac OS Monterey) MLY33HN/A Midnight Online - Apple : Flipkart.com        Explore PlusLoginBecome a Seller More CartAdd to cart Buy NowHomeComputersLaptopsApple LaptopsApple MacBook AIR Apple M2 - (8 GB/256 GB SSD/Mac OS Monterey) MLY33HN/A (13.6 Inch, Midnight, 1.24 Kg)\\nCompareShareApple MacBook AIR Apple M2 - (8 GB/256 GB SSD/Mac OS Monterey) MLY33HN/A\\xa0\\xa0(13.6 Inch, Midnight, 1.24 Kg)4.719,423 Ratings\\xa0&\\xa01,195 ReviewsSpecial price₹70,990₹89,90021% offi+ ₹99 Protect Promise Fee\\xa0Learn moreSecure delivery by 1 Jul, TuesdayAvailable offersBank Offer100% Cashback upto 500Rs on Axis Bank SuperMoney Rupay CC UPI transactions on super.money UPIT&CBank Offer5% cashback on Flipkart Axis Bank Credit Card upto ₹4,000 per statement quarterT&CBank Offer10% off on BOBCARD EMI Transactions, up to ₹1,500 on orders of ₹5,000 and aboveT&CSpecial PriceGet extra 15% off (price inclusive of cashback/coupon)T&CView 1 more offerBuy without Exchange₹70,990Buy with Exchangeup to ₹25,000 offEnter pincode to check if exchange is available1 Year Limited WarrantyKnow MoreColorMidnightSilverStarlightPlease select a Color to proceed✕System Memory8 GB8 GB16 GB16 GBPlease select a System Memory to proceed✕DeliveryCheckEnter pincodeDelivery by1 Jul, Tuesday?if ordered before 11:42 PMInstallation & Demo  by30 Jun, Monday|₹599View DetailsHighlightsStylish & Portable Thin and Light Laptop13.6 Inch Liquid Retina Display, LED-backlit display with IPS technology, 500 nits brightness, Wide colour (P3), True Tone technologyLight Laptop without Optical Disk DriveEasy Payment OptionsCash on DeliveryNet banking & Credit/ Debit/ ATM cardView DetailsSellerTREASURE HAUL ONLINE4.6No Returns Applicable?GST invoice available?See other sellersDescriptionCharged in a blazing-fast speed with the next-level M2 chip, this redesigned Apple’s notebook comes with mind blowing and has an excellent battery backup that can last up to 18 hours, which comes with an aluminium enclosure. Read MoreSpecificationsGeneralSales PackageMacBook Air, 30W USB-C Power Adapter, USB-C to MagSafe 3 CableModel NumberMLY33HN/APart NumberMLY33HN/AModel NameMacBook AirSeriesMacBook AIRColorMidnightTypeThin and Light LaptopSuitable ForProcessing & MultitaskingBattery BackupUpto 18 HoursPower Supply30 W USB-C Power AdapterMS Office ProvidedNoProcessor And Memory FeaturesProcessor BrandAppleProcessor NameM2SSDYesSSD Capacity256 GBRAM8 GBRAM TypeUnified MemoryProcessor VariantApple M2 ChipGraphic ProcessorNANumber of Cores8Storage TypeSSDOperating SystemOperating SystemMac OS MontereyPort And Slot FeaturesMic InYesUSB Port2 x Thunderbolt / USB 4 Ports (USB 4 (up to 40 Gbps), USB 3.1 Gen 2 (up to 10 Gbps)Display And Audio FeaturesTouchscreenNoScreen Size34.54 cm (13.6 Inch)Screen Resolution2560 x 1664 PixelScreen TypeLiquid Retina Display, LED-backlit display with IPS technology, 500 nits brightness, Wide colour (P3), True Tone technologySpeakersBuilt-in SpeakersInternal MicThree-mic Array with Directional BeamformingSound PropertiesStereo Speakers, Wide Stereo Sound, Support for Dolby AtmosConnectivity FeaturesWireless LAN802.11ax Wi-Fi 6 wireless networkingBluetoothv5.0DimensionsDimensions304.1 x 215.0 x 11.3Weight1.24 KgAdditional FeaturesDisk DriveNot AvailableWeb Camera1080p FaceTime HD cameraKeyboardBacklit Magic KeyboardBacklit KeyboardYesPointer DeviceForce Touch TrackpadIncluded SoftwareBuilt-in Apps: iMovie, Siri, GarageBand, Pages, Numbers, Photos, Keynote, Safari, Mail, FaceTime, Messages, Maps, Stocks, Home, Voice Memos, Notes, Calendar, Contacts, Reminders, Photo Booth, Preview, Books, App Store, Time Machine, TV, Music, Podcasts, Find My, QuickTime PlayerAdditional Features52.6 Watt Hour Lithium Polymer BatteryWarrantyWarranty Summary1 Year Limited WarrantyWarranty Service TypeOnsiteCovered in WarrantyManufacturing DefectsNot Covered in WarrantyPhysical DamageDomestic Warranty1 YearRead MoreFrequently Bought TogetherApple MacBook AIR Apple M2 - (8 GB/256 GB SSD/Mac OS Monterey) ML...4.7(19,423)₹70,990₹89,90021% offMOCA 13 inch Laptop Messenger Bag4.2(172)₹1,169Logitech MX Master 3s Wireless Ambidextrous Touch Mouse  with Blu...4.6(1,918)₹9,4951 Item₹70,9902 Add-ons₹10,664Total₹81,654Add 3 Items to CartRatings & ReviewsRate Product4.7★19,423 Ratings &1,195 Reviews5★4★3★2★1★15,9962,1504101706974.7Performance4.7Battery4.8Design4.7Display+ 8855Perfect product!Loved it, it's my first MacBook that I earned from my hardwork 🥺❤️READ MOREPiyush KhareCertified Buyer, NoidaOct, 20233800304PermalinkReport Abuse5Must buy!Battery lasted longer than my first relationship (2 days).Listening to Arijit singh songs on full volume since then still isn't getting over. Has more warmth than her. unlike her there's two way communication here as touchpad is very responsive. fingerprint lock is nice as it only opens up to me. 5 stars for this -1 for herREAD MOREsoumadeep bagCertified Buyer, Barasat8 months ago2822325PermalinkReport Abuse5Best in the market!Purchased (16GB RAM + 256GB SSD) variant for 69.5k only.So far everything good ,Later will share my experience for this device.READ MORETangella VenkateswarluCertified Buyer, Bangalore Division3 months ago362PermalinkReport Abuse5BrilliantSuperb built quality, Amazing performance and display quality...Got it at 72k, wonderful product at great price.READ MOREDhirendra SahuCertified Buyer, PuneOct, 2023708PermalinkReport Abuse5Super!Super productREAD MOREVinu ViswanCertified Buyer, Kannamangalam Alappuzha DistrictJul, 2022702141PermalinkReport Abuse5Fabulous!Such a great deal.. very happy with the performance and battery life..Origional product..🥰❤️Thank you Flipkart..!!!READ MORERiya SinghCertified Buyer, Mathura DistrictOct, 202219032PermalinkReport Abuse5AwesomeWhen i ordered and came to know about seller review,i was scared that in what condition i will get macbook. but i was wrong.This is my first macbook and i am fully satisfied with the product with original packaging of apple and got genuine product.It's very thin and light and looks very premium.As A software developer, i installed intellij idea ide and guess what.It's magic,it is opening just in a click and within 5 seconds.Great performance, no heating issue, sound quality awesome an...READ MOREMohit  AnandCertified Buyer, BengaluruSep, 2022652132PermalinkReport Abuse5Just wow!Its really very good and compact device.READ MOREHariprasad MandalCertified Buyer, RairangpurSep, 202219441PermalinkReport Abuse4DelightfulAwesome build quality and very good display, battery and camera. Still new to macOSREAD MOREprasad  shettyCertified Buyer, PuneOct, 2023587PermalinkReport Abuse5TerrificSuperb 😍READ MORERukshan AhmedCertified Buyer, Udalguri DistrictMay, 2023354PermalinkReport Abuse+All 1195 reviewsQuestions and AnswersQ:Is this connect to realme phoneA:need to download android data transfer software for for file transfer form Android to macsavai marajCertified Buyer22049Report AbuseQ:Battery battery backup???A:A lotttt. 8 hours video playback minimumPritam MondalCertified Buyer377Report AbuseQ:Is this having fingerscanA:YesAnonymousCertified Buyer308Report AbuseQ:will it have adapter and charger with it already?A:Yes it doesPranay  Dhapodkar Certified Buyer101Report AbuseQ:Can we update the software version to latest one?A:100%Sayan KabirCertified Buyer71Report AbuseQ:Is it waterproofA:No. use carefullySayan KabirCertified Buyer40Report AbuseQ:Can i use it for coding for BcaA:Yes I am using for Btech\\nNot very good\\nBut averageAnonymousCertified Buyer53Report AbuseRead other answersQ:It it has expandaple memory and RamA:NoSaurabh  Verma Certified Buyer96Report AbuseQ:Can I Play gamesA:Yes you canAnonymousCertified Buyer97Report AbuseQ:Fingerprint is availableA:YesAnonymousCertified Buyer43Report AbuseAll questions+Safe and Secure Payments.Easy returns.100% Authentic products.You might be interested inKeyboardsMin. 50% OffShop NowMouseMin. 50% OffShop NowPhysicalMin. 50% OffShop NowExternal SSDMin. 50% OffShop NowTop Stories:Brand DirectoryMOST SEARCHED IN Computers & Accessories:ASUS ROGDDR3 4GB RAM PRICECOMPUTER MONITORSAMSUNG COMPUTERWIFI RECEIVERCANON PRINTERS INDIAMICROSOFT STORE INDIA32 GB PEN DRIVE8GB PEN DRIVETOSHIBA PEN DRIVEDLINK MODEMHP 1020 PRINTERHP 1515 PRINTER4G WIFI DONGLETV TUNER CARDLAPTOP SKINS 15.6LAPTOP MOUSEWEB CAMERA PRICELAPTOP HPLENOVO THINKPADSAMSUNG LAPTOPSTOSHIBA LAPTOP PRICEMICRO SD CARD PRICEWD ELEMENTSABOUTContact UsAbout UsCareersFlipkart StoriesPressCorporate InformationGROUP COMPANIESMyntraCleartripShopsyHELPPaymentsShippingCancellation & ReturnsFAQCONSUMER POLICYCancellation & ReturnsTerms Of UseSecurityPrivacySitemapGrievance RedressalEPR ComplianceMail Us:Flipkart Internet Private Limited, \\n Buildings Alyssa, Begonia & \\n Clove Embassy Tech Village, \\n Outer Ring Road, Devarabeesanahalli Village, \\n Bengaluru, 560103, \\n Karnataka, India\\nSocialRegistered Office Address:Flipkart Internet Private Limited, \\n Buildings Alyssa, Begonia & \\n Clove Embassy Tech Village, \\n Outer Ring Road, Devarabeesanahalli Village, \\n Bengaluru, 560103, \\n Karnataka, India \\n CIN : U51109KA2012PTC066107 \\n Telephone: 044-45614700 / 044-67415800\\nBecome a SellerAdvertiseGift CardsHelp Center© 2007-2025 Flipkart.comBack to top   \\n \\n\\n\\n \")]"
      ]
     },
     "execution_count": 2,
     "metadata": {},
     "output_type": "execute_result"
    }
   ],
   "source": [
    "parser = StrOutputParser()\n",
    "url = 'https://www.flipkart.com/apple-macbook-air-m2-16-gb-256-gb-ssd-macos-sequoia-mc7x4hn-a/p/itmdc5308fa78421'\n",
    "loader = WebBaseLoader(url)\n",
    "docs = loader.load()\n",
    "docs"
   ]
  },
  {
   "cell_type": "code",
   "execution_count": 3,
   "metadata": {},
   "outputs": [
    {
     "data": {
      "text/plain": [
       "1"
      ]
     },
     "execution_count": 3,
     "metadata": {},
     "output_type": "execute_result"
    }
   ],
   "source": [
    "len(docs)"
   ]
  },
  {
   "cell_type": "code",
   "execution_count": null,
   "metadata": {},
   "outputs": [],
   "source": []
  },
  {
   "cell_type": "code",
   "execution_count": null,
   "metadata": {},
   "outputs": [],
   "source": []
  },
  {
   "cell_type": "code",
   "execution_count": null,
   "metadata": {},
   "outputs": [],
   "source": []
  },
  {
   "cell_type": "code",
   "execution_count": null,
   "metadata": {},
   "outputs": [],
   "source": []
  },
  {
   "cell_type": "code",
   "execution_count": null,
   "metadata": {},
   "outputs": [],
   "source": []
  }
 ],
 "metadata": {
  "kernelspec": {
   "display_name": "lang_venv",
   "language": "python",
   "name": "python3"
  },
  "language_info": {
   "codemirror_mode": {
    "name": "ipython",
    "version": 3
   },
   "file_extension": ".py",
   "mimetype": "text/x-python",
   "name": "python",
   "nbconvert_exporter": "python",
   "pygments_lexer": "ipython3",
   "version": "3.12.7"
  }
 },
 "nbformat": 4,
 "nbformat_minor": 5
}
