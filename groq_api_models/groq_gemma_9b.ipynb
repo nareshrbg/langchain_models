{
 "cells": [
  {
   "cell_type": "code",
   "execution_count": 1,
   "id": "a010bf91",
   "metadata": {},
   "outputs": [],
   "source": [
    "from langchain_groq import ChatGroq\n",
    "import os\n",
    "from dotenv import load_dotenv\n",
    "from langchain_core.messages import SystemMessage, HumanMessage\n",
    "from langchain_core.output_parsers import StrOutputParser\n",
    "from langchain_core.prompts import ChatPromptTemplate"
   ]
  },
  {
   "cell_type": "code",
   "execution_count": 51,
   "id": "ab21edd7",
   "metadata": {},
   "outputs": [],
   "source": [
    "load_dotenv()\n",
    "groq_api_key=os.getenv(\"GROQ_API_KEY\")"
   ]
  },
  {
   "cell_type": "code",
   "execution_count": 52,
   "id": "34d7355d",
   "metadata": {},
   "outputs": [
    {
     "data": {
      "text/plain": [
       "ChatGroq(client=<groq.resources.chat.completions.Completions object at 0x0000022FDE810470>, async_client=<groq.resources.chat.completions.AsyncCompletions object at 0x0000022FCFB5EFF0>, model_name='Gemma2-9b-It', model_kwargs={}, groq_api_key=SecretStr('**********'))"
      ]
     },
     "execution_count": 52,
     "metadata": {},
     "output_type": "execute_result"
    }
   ],
   "source": [
    "model=ChatGroq(model=\"Gemma2-9b-It\", groq_api_key=groq_api_key)\n",
    "model"
   ]
  },
  {
   "cell_type": "code",
   "execution_count": null,
   "id": "e8c412f6",
   "metadata": {},
   "outputs": [],
   "source": [
    "messages=[SystemMessage(content=\"Act as language translator and translate given text to french. Give only translated text\"),\n",
    "HumanMessage(content=\"Hey, How are you\")\n",
    "]\n",
    "ai_result=model.invoke(messages)\n"
   ]
  },
  {
   "cell_type": "code",
   "execution_count": 15,
   "id": "31ad1208",
   "metadata": {},
   "outputs": [
    {
     "data": {
      "text/plain": [
       "AIMessage(content='Salut, comment vas-tu ? \\n', additional_kwargs={}, response_metadata={'token_usage': {'completion_tokens': 11, 'prompt_tokens': 29, 'total_tokens': 40, 'completion_time': 0.02, 'prompt_time': 0.002094679, 'queue_time': 0.24205221500000001, 'total_time': 0.022094679}, 'model_name': 'Gemma2-9b-It', 'system_fingerprint': 'fp_10c08bf97d', 'finish_reason': 'stop', 'logprobs': None}, id='run--750077c1-3cc6-4a97-8469-17a0cfa41122-0', usage_metadata={'input_tokens': 29, 'output_tokens': 11, 'total_tokens': 40})"
      ]
     },
     "execution_count": 15,
     "metadata": {},
     "output_type": "execute_result"
    }
   ],
   "source": [
    "ai_result"
   ]
  },
  {
   "cell_type": "code",
   "execution_count": null,
   "id": "18b31425",
   "metadata": {},
   "outputs": [
    {
     "data": {
      "text/plain": [
       "'Salut, comment vas-tu ? \\n'"
      ]
     },
     "execution_count": 16,
     "metadata": {},
     "output_type": "execute_result"
    }
   ],
   "source": [
    "\n",
    "parser=StrOutputParser()\n",
    "\n",
    "parser.invoke(ai_result)"
   ]
  },
  {
   "cell_type": "markdown",
   "id": "6abb100b",
   "metadata": {},
   "source": [
    "### LCEL"
   ]
  },
  {
   "cell_type": "code",
   "execution_count": 53,
   "id": "63a3bbce",
   "metadata": {},
   "outputs": [
    {
     "data": {
      "text/plain": [
       "'Salut, comment vas-tu ? \\n'"
      ]
     },
     "execution_count": 53,
     "metadata": {},
     "output_type": "execute_result"
    }
   ],
   "source": [
    "parser=StrOutputParser()\n",
    "dynamic_messages = [\n",
    "    (\"system\", \"You are a highly efficient language translator. Your sole purpose is to translate the provided text into French. Output *only* the translated text, without any additional comments, greetings, or conversational filler.\"),\n",
    "    (\"human\", \"Please translate the following text to French:\\n\\nText: {text_input}\")\n",
    "]\n",
    "input_text_to_translate = \"Hey, How are you\"\n",
    "input_data = {'text_input': input_text_to_translate}\n",
    "dynamic_chat_template = ChatPromptTemplate(dynamic_messages)\n",
    "chain= dynamic_chat_template | model | parser\n",
    "chain.invoke(input_data)"
   ]
  },
  {
   "cell_type": "code",
   "execution_count": null,
   "id": "5f235768",
   "metadata": {},
   "outputs": [],
   "source": []
  },
  {
   "cell_type": "code",
   "execution_count": null,
   "metadata": {},
   "outputs": [],
   "source": []
  }
 ],
 "metadata": {
  "kernelspec": {
   "display_name": "lang_venv",
   "language": "python",
   "name": "python3"
  },
  "language_info": {
   "codemirror_mode": {
    "name": "ipython",
    "version": 3
   },
   "file_extension": ".py",
   "mimetype": "text/x-python",
   "name": "python",
   "nbconvert_exporter": "python",
   "pygments_lexer": "ipython3",
   "version": "3.12.7"
  }
 },
 "nbformat": 4,
 "nbformat_minor": 5
}
